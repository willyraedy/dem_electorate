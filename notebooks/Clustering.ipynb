{
 "cells": [
  {
   "cell_type": "code",
   "execution_count": 98,
   "metadata": {},
   "outputs": [],
   "source": [
    "import pickle\n",
    "from sklearn.cluster import KMeans, DBSCAN, AgglomerativeClustering, MeanShift, estimate_bandwidth\n",
    "from sklearn.preprocessing import StandardScaler\n",
    "import pandas as pd\n",
    "import numpy as np\n",
    "import matplotlib.pyplot as plt\n",
    "from sklearn.metrics import silhouette_score\n"
   ]
  },
  {
   "cell_type": "markdown",
   "metadata": {},
   "source": [
    "# Load Data"
   ]
  },
  {
   "cell_type": "code",
   "execution_count": 2,
   "metadata": {},
   "outputs": [],
   "source": [
    "with open('rDemocrats_doc_topic.pickle', 'rb') as read_file:\n",
    "    doc_topic = pickle.load(read_file)"
   ]
  },
  {
   "cell_type": "code",
   "execution_count": 5,
   "metadata": {},
   "outputs": [
    {
     "data": {
      "text/html": [
       "<div>\n",
       "<style scoped>\n",
       "    .dataframe tbody tr th:only-of-type {\n",
       "        vertical-align: middle;\n",
       "    }\n",
       "\n",
       "    .dataframe tbody tr th {\n",
       "        vertical-align: top;\n",
       "    }\n",
       "\n",
       "    .dataframe thead th {\n",
       "        text-align: right;\n",
       "    }\n",
       "</style>\n",
       "<table border=\"1\" class=\"dataframe\">\n",
       "  <thead>\n",
       "    <tr style=\"text-align: right;\">\n",
       "      <th></th>\n",
       "      <th>2016_election_frustration</th>\n",
       "      <th>impeachment_proceedings</th>\n",
       "      <th>healthcare</th>\n",
       "      <th>primary_candidates</th>\n",
       "      <th>gun_control</th>\n",
       "      <th>election_general_terms</th>\n",
       "      <th>right_wing_media</th>\n",
       "      <th>impeachment</th>\n",
       "      <th>yang_ubi</th>\n",
       "      <th>primary_debates</th>\n",
       "      <th>bloomberg</th>\n",
       "      <th>econ_trump_vs_obama</th>\n",
       "      <th>race_identity</th>\n",
       "      <th>tax_return_ukraine_biden</th>\n",
       "      <th>election_midwest_swing</th>\n",
       "      <th>monetary_policy</th>\n",
       "      <th>rep_dem_comparison</th>\n",
       "      <th>miltary_and_immigration</th>\n",
       "    </tr>\n",
       "  </thead>\n",
       "  <tbody>\n",
       "    <tr>\n",
       "      <th>0</th>\n",
       "      <td>0.123343</td>\n",
       "      <td>0.012851</td>\n",
       "      <td>0.013812</td>\n",
       "      <td>0.000000</td>\n",
       "      <td>0.000000</td>\n",
       "      <td>0.272942</td>\n",
       "      <td>0.077024</td>\n",
       "      <td>0.041799</td>\n",
       "      <td>0.023813</td>\n",
       "      <td>0.000000</td>\n",
       "      <td>0.000000</td>\n",
       "      <td>0.038714</td>\n",
       "      <td>0.000000</td>\n",
       "      <td>0.032714</td>\n",
       "      <td>0.000000</td>\n",
       "      <td>0.019753</td>\n",
       "      <td>0.185941</td>\n",
       "      <td>0.000000</td>\n",
       "    </tr>\n",
       "    <tr>\n",
       "      <th>1</th>\n",
       "      <td>0.020968</td>\n",
       "      <td>0.000000</td>\n",
       "      <td>0.024317</td>\n",
       "      <td>0.000000</td>\n",
       "      <td>0.116667</td>\n",
       "      <td>0.000000</td>\n",
       "      <td>0.144040</td>\n",
       "      <td>0.000000</td>\n",
       "      <td>0.166745</td>\n",
       "      <td>0.000000</td>\n",
       "      <td>0.095996</td>\n",
       "      <td>0.000000</td>\n",
       "      <td>0.131210</td>\n",
       "      <td>0.175204</td>\n",
       "      <td>0.000000</td>\n",
       "      <td>0.091814</td>\n",
       "      <td>0.119905</td>\n",
       "      <td>0.175758</td>\n",
       "    </tr>\n",
       "    <tr>\n",
       "      <th>2</th>\n",
       "      <td>0.004293</td>\n",
       "      <td>0.000000</td>\n",
       "      <td>0.000000</td>\n",
       "      <td>0.301581</td>\n",
       "      <td>0.007249</td>\n",
       "      <td>0.481218</td>\n",
       "      <td>0.057271</td>\n",
       "      <td>0.000000</td>\n",
       "      <td>0.000000</td>\n",
       "      <td>0.679723</td>\n",
       "      <td>0.000000</td>\n",
       "      <td>0.000000</td>\n",
       "      <td>0.150709</td>\n",
       "      <td>0.139188</td>\n",
       "      <td>0.258184</td>\n",
       "      <td>0.024112</td>\n",
       "      <td>0.000000</td>\n",
       "      <td>0.000000</td>\n",
       "    </tr>\n",
       "    <tr>\n",
       "      <th>3</th>\n",
       "      <td>1.684889</td>\n",
       "      <td>0.000000</td>\n",
       "      <td>0.000000</td>\n",
       "      <td>0.000000</td>\n",
       "      <td>0.000000</td>\n",
       "      <td>1.611127</td>\n",
       "      <td>0.000000</td>\n",
       "      <td>0.000000</td>\n",
       "      <td>0.122590</td>\n",
       "      <td>0.991394</td>\n",
       "      <td>0.015548</td>\n",
       "      <td>0.000000</td>\n",
       "      <td>0.000000</td>\n",
       "      <td>0.000000</td>\n",
       "      <td>0.000000</td>\n",
       "      <td>0.000000</td>\n",
       "      <td>5.059478</td>\n",
       "      <td>0.000000</td>\n",
       "    </tr>\n",
       "    <tr>\n",
       "      <th>4</th>\n",
       "      <td>0.000000</td>\n",
       "      <td>0.000000</td>\n",
       "      <td>0.495509</td>\n",
       "      <td>0.429306</td>\n",
       "      <td>0.143234</td>\n",
       "      <td>0.000000</td>\n",
       "      <td>0.000000</td>\n",
       "      <td>0.000000</td>\n",
       "      <td>0.529382</td>\n",
       "      <td>0.560277</td>\n",
       "      <td>0.000000</td>\n",
       "      <td>0.000000</td>\n",
       "      <td>0.005820</td>\n",
       "      <td>0.149024</td>\n",
       "      <td>0.000000</td>\n",
       "      <td>0.000000</td>\n",
       "      <td>0.000000</td>\n",
       "      <td>0.283183</td>\n",
       "    </tr>\n",
       "  </tbody>\n",
       "</table>\n",
       "</div>"
      ],
      "text/plain": [
       "   2016_election_frustration  impeachment_proceedings  healthcare  \\\n",
       "0                   0.123343                 0.012851    0.013812   \n",
       "1                   0.020968                 0.000000    0.024317   \n",
       "2                   0.004293                 0.000000    0.000000   \n",
       "3                   1.684889                 0.000000    0.000000   \n",
       "4                   0.000000                 0.000000    0.495509   \n",
       "\n",
       "   primary_candidates  gun_control  election_general_terms  right_wing_media  \\\n",
       "0            0.000000     0.000000                0.272942          0.077024   \n",
       "1            0.000000     0.116667                0.000000          0.144040   \n",
       "2            0.301581     0.007249                0.481218          0.057271   \n",
       "3            0.000000     0.000000                1.611127          0.000000   \n",
       "4            0.429306     0.143234                0.000000          0.000000   \n",
       "\n",
       "   impeachment  yang_ubi  primary_debates  bloomberg  econ_trump_vs_obama  \\\n",
       "0     0.041799  0.023813         0.000000   0.000000             0.038714   \n",
       "1     0.000000  0.166745         0.000000   0.095996             0.000000   \n",
       "2     0.000000  0.000000         0.679723   0.000000             0.000000   \n",
       "3     0.000000  0.122590         0.991394   0.015548             0.000000   \n",
       "4     0.000000  0.529382         0.560277   0.000000             0.000000   \n",
       "\n",
       "   race_identity  tax_return_ukraine_biden  election_midwest_swing  \\\n",
       "0       0.000000                  0.032714                0.000000   \n",
       "1       0.131210                  0.175204                0.000000   \n",
       "2       0.150709                  0.139188                0.258184   \n",
       "3       0.000000                  0.000000                0.000000   \n",
       "4       0.005820                  0.149024                0.000000   \n",
       "\n",
       "   monetary_policy  rep_dem_comparison  miltary_and_immigration  \n",
       "0         0.019753            0.185941                 0.000000  \n",
       "1         0.091814            0.119905                 0.175758  \n",
       "2         0.024112            0.000000                 0.000000  \n",
       "3         0.000000            5.059478                 0.000000  \n",
       "4         0.000000            0.000000                 0.283183  "
      ]
     },
     "execution_count": 5,
     "metadata": {},
     "output_type": "execute_result"
    }
   ],
   "source": [
    "doc_topic.head()"
   ]
  },
  {
   "cell_type": "code",
   "execution_count": 47,
   "metadata": {},
   "outputs": [],
   "source": [
    "scaler = StandardScaler()\n",
    "doc_topic_std = scaler.fit_transform(doc_topic)"
   ]
  },
  {
   "cell_type": "markdown",
   "metadata": {},
   "source": [
    "# Clustering"
   ]
  },
  {
   "cell_type": "markdown",
   "metadata": {},
   "source": [
    "## K-means"
   ]
  },
  {
   "cell_type": "code",
   "execution_count": 41,
   "metadata": {},
   "outputs": [
    {
     "data": {
      "image/png": "[encoded data removed]",
      "text/plain": [
       "<Figure size 432x288 with 1 Axes>"
      ]
     },
     "metadata": {
      "needs_background": "light"
     },
     "output_type": "display_data"
    }
   ],
   "source": [
    "inertia = []\n",
    "sil_scores = []\n",
    "list_num_clusters = list(range(2,51))\n",
    "for num_clusters in list_num_clusters:\n",
    "    km = KMeans(n_clusters=num_clusters, random_state=42)\n",
    "    preds = km.fit_predict(doc_topic)\n",
    "    inertia.append(km.inertia_)\n",
    "    sil_scores.append(silhouette_score(doc_topic_std, preds))\n",
    "    \n",
    "plt.plot(list_num_clusters,inertia)\n",
    "plt.scatter(list_num_clusters,inertia)\n",
    "plt.xlabel('Number of Clusters')\n",
    "plt.ylabel('Inertia');"
   ]
  },
  {
   "cell_type": "code",
   "execution_count": 42,
   "metadata": {},
   "outputs": [
    {
     "data": {
      "image/png": "[encoded data removed]",
      "text/plain": [
       "<Figure size 432x288 with 1 Axes>"
      ]
     },
     "metadata": {
      "needs_background": "light"
     },
     "output_type": "display_data"
    }
   ],
   "source": [
    "plt.plot(list_num_clusters,sil_scores)\n",
    "plt.scatter(list_num_clusters,sil_scores)\n",
    "plt.xlabel('Number of Clusters')\n",
    "plt.ylabel('Silhouette Scores');"
   ]
  },
  {
   "cell_type": "code",
   "execution_count": 52,
   "metadata": {},
   "outputs": [
    {
     "data": {
      "text/plain": [
       "0     518\n",
       "4      54\n",
       "1      21\n",
       "9       4\n",
       "10      1\n",
       "8       1\n",
       "7       1\n",
       "6       1\n",
       "5       1\n",
       "3       1\n",
       "2       1\n",
       "Name: 0, dtype: int64"
      ]
     },
     "execution_count": 52,
     "metadata": {},
     "output_type": "execute_result"
    }
   ],
   "source": [
    "km = KMeans(n_clusters=11, random_state=42)\n",
    "km_model = km.fit_predict(doc_topic_std)\n",
    "pd.DataFrame(km_model).iloc[:, 0].value_counts()"
   ]
  },
  {
   "cell_type": "code",
   "execution_count": 45,
   "metadata": {},
   "outputs": [],
   "source": [
    "# Dimensionality might be too high\n",
    "# lots of outliers, let's try a non-partioning algo\n",
    "# seems like there's one dense region and then lots of outliers"
   ]
  },
  {
   "cell_type": "markdown",
   "metadata": {},
   "source": [
    "## DBSCAN"
   ]
  },
  {
   "cell_type": "code",
   "execution_count": 84,
   "metadata": {},
   "outputs": [
    {
     "data": {
      "text/plain": [
       "-1    268\n",
       " 0    265\n",
       " 1     59\n",
       " 2     12\n",
       "Name: 0, dtype: int64"
      ]
     },
     "execution_count": 84,
     "metadata": {},
     "output_type": "execute_result"
    }
   ],
   "source": [
    "db = DBSCAN(eps=.2, min_samples=10, metric='cosine').fit(doc_topic_std)\n",
    "pd.DataFrame(db.labels_).iloc[:, 0].value_counts()"
   ]
  },
  {
   "cell_type": "markdown",
   "metadata": {},
   "source": [
    "## Hierarchical Clustering"
   ]
  },
  {
   "cell_type": "code",
   "execution_count": 97,
   "metadata": {},
   "outputs": [
    {
     "data": {
      "text/plain": [
       "4     142\n",
       "1      75\n",
       "3      68\n",
       "5      55\n",
       "10     45\n",
       "0      38\n",
       "12     32\n",
       "9      24\n",
       "7      24\n",
       "2      21\n",
       "13     21\n",
       "14     20\n",
       "6      17\n",
       "15     15\n",
       "16      3\n",
       "11      3\n",
       "8       1\n",
       "Name: 0, dtype: int64"
      ]
     },
     "execution_count": 97,
     "metadata": {},
     "output_type": "execute_result"
    }
   ],
   "source": [
    "db = AgglomerativeClustering(n_clusters=None, distance_threshold=.8, linkage='average', affinity='cosine').fit(doc_topic_std)\n",
    "pd.DataFrame(db.labels_).iloc[:, 0].value_counts()"
   ]
  },
  {
   "cell_type": "markdown",
   "metadata": {},
   "source": [
    "## Mean Shift"
   ]
  },
  {
   "cell_type": "code",
   "execution_count": 115,
   "metadata": {},
   "outputs": [
    {
     "data": {
      "text/plain": [
       " 0     563\n",
       "-1      16\n",
       " 1       2\n",
       " 2       2\n",
       " 22      1\n",
       " 10      1\n",
       " 3       1\n",
       " 4       1\n",
       " 5       1\n",
       " 6       1\n",
       " 7       1\n",
       " 8       1\n",
       " 9       1\n",
       " 11      1\n",
       " 21      1\n",
       " 23      1\n",
       " 13      1\n",
       " 14      1\n",
       " 15      1\n",
       " 16      1\n",
       " 17      1\n",
       " 18      1\n",
       " 19      1\n",
       " 20      1\n",
       " 12      1\n",
       "Name: 0, dtype: int64"
      ]
     },
     "execution_count": 115,
     "metadata": {},
     "output_type": "execute_result"
    }
   ],
   "source": [
    "# estimate bandwidth \n",
    "bandwidth = estimate_bandwidth(doc_topic_std, quantile=0.9, random_state=42)\n",
    "\n",
    "ms = MeanShift(bandwidth=bandwidth, cluster_all=False)\n",
    "ms.fit(doc_topic_std)\n",
    "pd.DataFrame(ms.labels_).iloc[:, 0].value_counts()"
   ]
  },
  {
   "cell_type": "markdown",
   "metadata": {},
   "source": [
    "## Spectral Clustering Affinity Propogation"
   ]
  },
  {
   "cell_type": "code",
   "execution_count": 126,
   "metadata": {},
   "outputs": [
    {
     "name": "stderr",
     "output_type": "stream",
     "text": [
      "/Users/willyraedy/opt/anaconda3/envs/metis/lib/python3.7/site-packages/sklearn/cluster/spectral.py:268: ConvergenceWarning: Number of distinct clusters (2) found smaller than n_clusters (3). Possibly due to duplicate points in X.\n",
      "  n_init=n_init)\n"
     ]
    },
    {
     "data": {
      "text/plain": [
       "2    603\n",
       "1      1\n",
       "Name: 0, dtype: int64"
      ]
     },
     "execution_count": 126,
     "metadata": {},
     "output_type": "execute_result"
    }
   ],
   "source": [
    "from sklearn.cluster import SpectralClustering\n",
    "sc = SpectralClustering(n_clusters=3, random_state=42)\n",
    "ypred = sc.fit_predict(doc_topic_std)\n",
    "pd.DataFrame(ypred).iloc[:, 0].value_counts()"
   ]
  },
  {
   "cell_type": "code",
   "execution_count": 125,
   "metadata": {},
   "outputs": [
    {
     "data": {
      "text/html": [
       "<div>\n",
       "<style scoped>\n",
       "    .dataframe tbody tr th:only-of-type {\n",
       "        vertical-align: middle;\n",
       "    }\n",
       "\n",
       "    .dataframe tbody tr th {\n",
       "        vertical-align: top;\n",
       "    }\n",
       "\n",
       "    .dataframe thead th {\n",
       "        text-align: right;\n",
       "    }\n",
       "</style>\n",
       "<table border=\"1\" class=\"dataframe\">\n",
       "  <thead>\n",
       "    <tr style=\"text-align: right;\">\n",
       "      <th></th>\n",
       "      <th>0</th>\n",
       "      <th>1</th>\n",
       "      <th>2</th>\n",
       "      <th>3</th>\n",
       "      <th>4</th>\n",
       "      <th>5</th>\n",
       "      <th>6</th>\n",
       "      <th>7</th>\n",
       "      <th>8</th>\n",
       "      <th>9</th>\n",
       "      <th>10</th>\n",
       "      <th>11</th>\n",
       "      <th>12</th>\n",
       "      <th>13</th>\n",
       "      <th>14</th>\n",
       "      <th>15</th>\n",
       "      <th>16</th>\n",
       "      <th>17</th>\n",
       "    </tr>\n",
       "  </thead>\n",
       "  <tbody>\n",
       "    <tr>\n",
       "      <th>0</th>\n",
       "      <td>-0.445058</td>\n",
       "      <td>-0.087710</td>\n",
       "      <td>-0.130271</td>\n",
       "      <td>-0.371049</td>\n",
       "      <td>-0.184342</td>\n",
       "      <td>0.127836</td>\n",
       "      <td>-0.194211</td>\n",
       "      <td>-0.360795</td>\n",
       "      <td>-0.269443</td>\n",
       "      <td>-0.275760</td>\n",
       "      <td>-0.225698</td>\n",
       "      <td>-0.163842</td>\n",
       "      <td>-0.352151</td>\n",
       "      <td>-0.158517</td>\n",
       "      <td>-0.374221</td>\n",
       "      <td>-0.106184</td>\n",
       "      <td>-0.016993</td>\n",
       "      <td>-0.293918</td>\n",
       "    </tr>\n",
       "    <tr>\n",
       "      <th>1</th>\n",
       "      <td>-0.774644</td>\n",
       "      <td>-0.112788</td>\n",
       "      <td>-0.106035</td>\n",
       "      <td>-0.371049</td>\n",
       "      <td>0.016626</td>\n",
       "      <td>-0.440204</td>\n",
       "      <td>-0.038318</td>\n",
       "      <td>-0.458264</td>\n",
       "      <td>0.132230</td>\n",
       "      <td>-0.275760</td>\n",
       "      <td>0.010114</td>\n",
       "      <td>-0.250535</td>\n",
       "      <td>0.006804</td>\n",
       "      <td>0.233129</td>\n",
       "      <td>-0.374221</td>\n",
       "      <td>0.087340</td>\n",
       "      <td>-0.213302</td>\n",
       "      <td>0.136585</td>\n",
       "    </tr>\n",
       "    <tr>\n",
       "      <th>2</th>\n",
       "      <td>-0.828327</td>\n",
       "      <td>-0.112788</td>\n",
       "      <td>-0.162139</td>\n",
       "      <td>0.296020</td>\n",
       "      <td>-0.171856</td>\n",
       "      <td>0.561295</td>\n",
       "      <td>-0.240161</td>\n",
       "      <td>-0.458264</td>\n",
       "      <td>-0.336362</td>\n",
       "      <td>1.096727</td>\n",
       "      <td>-0.225698</td>\n",
       "      <td>-0.250535</td>\n",
       "      <td>0.060148</td>\n",
       "      <td>0.134136</td>\n",
       "      <td>0.319860</td>\n",
       "      <td>-0.094477</td>\n",
       "      <td>-0.569756</td>\n",
       "      <td>-0.293918</td>\n",
       "    </tr>\n",
       "    <tr>\n",
       "      <th>3</th>\n",
       "      <td>4.582201</td>\n",
       "      <td>-0.112788</td>\n",
       "      <td>-0.162139</td>\n",
       "      <td>-0.371049</td>\n",
       "      <td>-0.184342</td>\n",
       "      <td>2.912836</td>\n",
       "      <td>-0.373385</td>\n",
       "      <td>-0.458264</td>\n",
       "      <td>0.008144</td>\n",
       "      <td>1.726048</td>\n",
       "      <td>-0.187505</td>\n",
       "      <td>-0.250535</td>\n",
       "      <td>-0.352151</td>\n",
       "      <td>-0.248435</td>\n",
       "      <td>-0.374221</td>\n",
       "      <td>-0.159232</td>\n",
       "      <td>14.471034</td>\n",
       "      <td>-0.293918</td>\n",
       "    </tr>\n",
       "    <tr>\n",
       "      <th>4</th>\n",
       "      <td>-0.842149</td>\n",
       "      <td>-0.112788</td>\n",
       "      <td>0.981123</td>\n",
       "      <td>0.578535</td>\n",
       "      <td>0.062388</td>\n",
       "      <td>-0.440204</td>\n",
       "      <td>-0.373385</td>\n",
       "      <td>-0.458264</td>\n",
       "      <td>1.151322</td>\n",
       "      <td>0.855543</td>\n",
       "      <td>-0.225698</td>\n",
       "      <td>-0.250535</td>\n",
       "      <td>-0.336230</td>\n",
       "      <td>0.161171</td>\n",
       "      <td>-0.374221</td>\n",
       "      <td>-0.159232</td>\n",
       "      <td>-0.569756</td>\n",
       "      <td>0.399713</td>\n",
       "    </tr>\n",
       "    <tr>\n",
       "      <th>...</th>\n",
       "      <td>...</td>\n",
       "      <td>...</td>\n",
       "      <td>...</td>\n",
       "      <td>...</td>\n",
       "      <td>...</td>\n",
       "      <td>...</td>\n",
       "      <td>...</td>\n",
       "      <td>...</td>\n",
       "      <td>...</td>\n",
       "      <td>...</td>\n",
       "      <td>...</td>\n",
       "      <td>...</td>\n",
       "      <td>...</td>\n",
       "      <td>...</td>\n",
       "      <td>...</td>\n",
       "      <td>...</td>\n",
       "      <td>...</td>\n",
       "      <td>...</td>\n",
       "    </tr>\n",
       "    <tr>\n",
       "      <th>599</th>\n",
       "      <td>0.665411</td>\n",
       "      <td>0.066848</td>\n",
       "      <td>-0.162139</td>\n",
       "      <td>-0.310254</td>\n",
       "      <td>0.164798</td>\n",
       "      <td>0.428696</td>\n",
       "      <td>-0.066897</td>\n",
       "      <td>0.836319</td>\n",
       "      <td>-0.140144</td>\n",
       "      <td>-0.275760</td>\n",
       "      <td>-0.225698</td>\n",
       "      <td>0.116743</td>\n",
       "      <td>-0.237847</td>\n",
       "      <td>-0.243842</td>\n",
       "      <td>-0.374221</td>\n",
       "      <td>-0.159232</td>\n",
       "      <td>0.253039</td>\n",
       "      <td>-0.201828</td>\n",
       "    </tr>\n",
       "    <tr>\n",
       "      <th>600</th>\n",
       "      <td>-0.842149</td>\n",
       "      <td>0.092763</td>\n",
       "      <td>-0.162139</td>\n",
       "      <td>-0.371049</td>\n",
       "      <td>-0.068584</td>\n",
       "      <td>0.396643</td>\n",
       "      <td>-0.373385</td>\n",
       "      <td>0.665417</td>\n",
       "      <td>-0.336362</td>\n",
       "      <td>-0.275760</td>\n",
       "      <td>0.203023</td>\n",
       "      <td>0.126854</td>\n",
       "      <td>-0.352151</td>\n",
       "      <td>-0.248435</td>\n",
       "      <td>1.177999</td>\n",
       "      <td>-0.159232</td>\n",
       "      <td>-0.569756</td>\n",
       "      <td>1.009103</td>\n",
       "    </tr>\n",
       "    <tr>\n",
       "      <th>601</th>\n",
       "      <td>-0.842149</td>\n",
       "      <td>-0.101190</td>\n",
       "      <td>-0.162139</td>\n",
       "      <td>-0.371049</td>\n",
       "      <td>-0.116483</td>\n",
       "      <td>-0.254260</td>\n",
       "      <td>-0.373385</td>\n",
       "      <td>0.121363</td>\n",
       "      <td>-0.336362</td>\n",
       "      <td>-0.275760</td>\n",
       "      <td>-0.210927</td>\n",
       "      <td>-0.250535</td>\n",
       "      <td>-0.125483</td>\n",
       "      <td>-0.248435</td>\n",
       "      <td>-0.245462</td>\n",
       "      <td>-0.134430</td>\n",
       "      <td>0.477053</td>\n",
       "      <td>-0.128565</td>\n",
       "    </tr>\n",
       "    <tr>\n",
       "      <th>602</th>\n",
       "      <td>-0.292599</td>\n",
       "      <td>-0.112788</td>\n",
       "      <td>-0.003965</td>\n",
       "      <td>-0.167978</td>\n",
       "      <td>-0.184342</td>\n",
       "      <td>0.070323</td>\n",
       "      <td>-0.373385</td>\n",
       "      <td>-0.145450</td>\n",
       "      <td>-0.078510</td>\n",
       "      <td>0.074643</td>\n",
       "      <td>-0.138686</td>\n",
       "      <td>-0.250535</td>\n",
       "      <td>-0.287796</td>\n",
       "      <td>-0.248435</td>\n",
       "      <td>-0.351668</td>\n",
       "      <td>-0.159232</td>\n",
       "      <td>-0.266771</td>\n",
       "      <td>-0.293918</td>\n",
       "    </tr>\n",
       "    <tr>\n",
       "      <th>603</th>\n",
       "      <td>-0.486616</td>\n",
       "      <td>-0.112788</td>\n",
       "      <td>-0.162139</td>\n",
       "      <td>-0.265522</td>\n",
       "      <td>-0.184342</td>\n",
       "      <td>-0.025705</td>\n",
       "      <td>-0.120355</td>\n",
       "      <td>0.452728</td>\n",
       "      <td>-0.216334</td>\n",
       "      <td>-0.275760</td>\n",
       "      <td>-0.142686</td>\n",
       "      <td>-0.250535</td>\n",
       "      <td>-0.352151</td>\n",
       "      <td>-0.248435</td>\n",
       "      <td>-0.002562</td>\n",
       "      <td>0.071553</td>\n",
       "      <td>-0.524136</td>\n",
       "      <td>-0.293918</td>\n",
       "    </tr>\n",
       "  </tbody>\n",
       "</table>\n",
       "<p>604 rows × 18 columns</p>\n",
       "</div>"
      ],
      "text/plain": [
       "            0         1         2         3         4         5         6  \\\n",
       "0   -0.445058 -0.087710 -0.130271 -0.371049 -0.184342  0.127836 -0.194211   \n",
       "1   -0.774644 -0.112788 -0.106035 -0.371049  0.016626 -0.440204 -0.038318   \n",
       "2   -0.828327 -0.112788 -0.162139  0.296020 -0.171856  0.561295 -0.240161   \n",
       "3    4.582201 -0.112788 -0.162139 -0.371049 -0.184342  2.912836 -0.373385   \n",
       "4   -0.842149 -0.112788  0.981123  0.578535  0.062388 -0.440204 -0.373385   \n",
       "..        ...       ...       ...       ...       ...       ...       ...   \n",
       "599  0.665411  0.066848 -0.162139 -0.310254  0.164798  0.428696 -0.066897   \n",
       "600 -0.842149  0.092763 -0.162139 -0.371049 -0.068584  0.396643 -0.373385   \n",
       "601 -0.842149 -0.101190 -0.162139 -0.371049 -0.116483 -0.254260 -0.373385   \n",
       "602 -0.292599 -0.112788 -0.003965 -0.167978 -0.184342  0.070323 -0.373385   \n",
       "603 -0.486616 -0.112788 -0.162139 -0.265522 -0.184342 -0.025705 -0.120355   \n",
       "\n",
       "            7         8         9        10        11        12        13  \\\n",
       "0   -0.360795 -0.269443 -0.275760 -0.225698 -0.163842 -0.352151 -0.158517   \n",
       "1   -0.458264  0.132230 -0.275760  0.010114 -0.250535  0.006804  0.233129   \n",
       "2   -0.458264 -0.336362  1.096727 -0.225698 -0.250535  0.060148  0.134136   \n",
       "3   -0.458264  0.008144  1.726048 -0.187505 -0.250535 -0.352151 -0.248435   \n",
       "4   -0.458264  1.151322  0.855543 -0.225698 -0.250535 -0.336230  0.161171   \n",
       "..        ...       ...       ...       ...       ...       ...       ...   \n",
       "599  0.836319 -0.140144 -0.275760 -0.225698  0.116743 -0.237847 -0.243842   \n",
       "600  0.665417 -0.336362 -0.275760  0.203023  0.126854 -0.352151 -0.248435   \n",
       "601  0.121363 -0.336362 -0.275760 -0.210927 -0.250535 -0.125483 -0.248435   \n",
       "602 -0.145450 -0.078510  0.074643 -0.138686 -0.250535 -0.287796 -0.248435   \n",
       "603  0.452728 -0.216334 -0.275760 -0.142686 -0.250535 -0.352151 -0.248435   \n",
       "\n",
       "           14        15         16        17  \n",
       "0   -0.374221 -0.106184  -0.016993 -0.293918  \n",
       "1   -0.374221  0.087340  -0.213302  0.136585  \n",
       "2    0.319860 -0.094477  -0.569756 -0.293918  \n",
       "3   -0.374221 -0.159232  14.471034 -0.293918  \n",
       "4   -0.374221 -0.159232  -0.569756  0.399713  \n",
       "..        ...       ...        ...       ...  \n",
       "599 -0.374221 -0.159232   0.253039 -0.201828  \n",
       "600  1.177999 -0.159232  -0.569756  1.009103  \n",
       "601 -0.245462 -0.134430   0.477053 -0.128565  \n",
       "602 -0.351668 -0.159232  -0.266771 -0.293918  \n",
       "603 -0.002562  0.071553  -0.524136 -0.293918  \n",
       "\n",
       "[604 rows x 18 columns]"
      ]
     },
     "execution_count": 125,
     "metadata": {},
     "output_type": "execute_result"
    }
   ],
   "source": [
    "pd.DataFrame(doc_topic_std)"
   ]
  },
  {
   "cell_type": "markdown",
   "metadata": {},
   "source": [
    "# Take Aways"
   ]
  },
  {
   "cell_type": "markdown",
   "metadata": {},
   "source": [
    "- Lots of outliers and then one dense region\n",
    "- Perhaps consider dropping a bunch of the common words\n",
    "    - play with max_df\n",
    "    - In theory, the topics sharing words is making the clustering break down\n"
   ]
  },
  {
   "cell_type": "code",
   "execution_count": null,
   "metadata": {},
   "outputs": [],
   "source": []
  }
 ],
 "metadata": {
  "kernelspec": {
   "display_name": "Python [conda env:metis] *",
   "language": "python",
   "name": "conda-env-metis-py"
  },
  "language_info": {
   "codemirror_mode": {
    "name": "ipython",
    "version": 3
   },
   "file_extension": ".py",
   "mimetype": "text/x-python",
   "name": "python",
   "nbconvert_exporter": "python",
   "pygments_lexer": "ipython3",
   "version": "3.7.4"
  },
  "toc": {
   "base_numbering": 1,
   "nav_menu": {},
   "number_sections": true,
   "sideBar": true,
   "skip_h1_title": false,
   "title_cell": "Table of Contents",
   "title_sidebar": "Contents",
   "toc_cell": false,
   "toc_position": {
    "height": "calc(100% - 180px)",
    "left": "10px",
    "top": "150px",
    "width": "233px"
   },
   "toc_section_display": true,
   "toc_window_display": true
  }
 },
 "nbformat": 4,
 "nbformat_minor": 4
}
