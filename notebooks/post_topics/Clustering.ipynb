{
 "cells": [
  {
   "cell_type": "code",
   "execution_count": 15,
   "metadata": {},
   "outputs": [],
   "source": [
    "import pickle\n",
    "from sklearn.cluster import KMeans, DBSCAN, AgglomerativeClustering, MeanShift, estimate_bandwidth\n",
    "from sklearn.preprocessing import MinMaxScaler\n",
    "import pandas as pd\n",
    "import numpy as np\n",
    "import matplotlib.pyplot as plt\n",
    "from sklearn.metrics import silhouette_score\n",
    "import seaborn as sns"
   ]
  },
  {
   "cell_type": "code",
   "execution_count": 16,
   "metadata": {},
   "outputs": [],
   "source": [
    "pd.set_option('display.max_columns', 50)"
   ]
  },
  {
   "cell_type": "markdown",
   "metadata": {},
   "source": [
    "# Load Data"
   ]
  },
  {
   "cell_type": "code",
   "execution_count": 20,
   "metadata": {},
   "outputs": [],
   "source": [
    "with open('../../data/interim/rDemocrats_doc_topic.pickle', 'rb') as read_file:\n",
    "    doc_topic = pickle.load(read_file)"
   ]
  },
  {
   "cell_type": "code",
   "execution_count": 21,
   "metadata": {},
   "outputs": [],
   "source": [
    "with open('../../data/interim/rDemocrats_data_clean.pickle', 'rb') as read_file:\n",
    "    data_clean = pickle.load(read_file)"
   ]
  },
  {
   "cell_type": "code",
   "execution_count": 22,
   "metadata": {},
   "outputs": [],
   "source": [
    "data_join = data_clean.reset_index().join(doc_topic)"
   ]
  },
  {
   "cell_type": "markdown",
   "metadata": {},
   "source": [
    "# EDA - Topic Distributions"
   ]
  },
  {
   "cell_type": "markdown",
   "metadata": {},
   "source": [
    "## Raw Distribution"
   ]
  },
  {
   "cell_type": "code",
   "execution_count": 23,
   "metadata": {},
   "outputs": [],
   "source": [
    "data_join['total_topic_score'] = data_join.apply(lambda x: np.sum(x['2016_election_frustration':'miltary_and_immigration']), axis=1)\n",
    "\n",
    "for topic in data_join.columns[4:22]:\n",
    "    data_join[topic + '_perc'] = data_join[topic] / data_join['total_topic_score']"
   ]
  },
  {
   "cell_type": "code",
   "execution_count": 24,
   "metadata": {},
   "outputs": [],
   "source": [
    "def get_primary_topic(row, threshold=0.25):\n",
    "    topic_weights = row['2016_election_frustration_perc':'miltary_and_immigration_perc'].sort_values()\n",
    "    max_perc, primary_topic = topic_weights[-1], topic_weights.index[-1]\n",
    "    sec_perc, sec_topic = topic_weights[-2], topic_weights.index[-2]\n",
    "    \n",
    "    return primary_topic, max_perc, sec_topic, sec_perc\n",
    "\n",
    "def label_primary_topic(df):\n",
    "    df_ = df.copy()\n",
    "    series = df_.apply(get_primary_topic, axis=1)\n",
    "    primary_topic, max_perc, sec_topic, sec_perc = series.map(lambda x: x[0]), series.map(lambda x: x[1]), series.map(lambda x: x[2]), series.map(lambda x: x[3])\n",
    "    df_['primary_topic'] = primary_topic\n",
    "    df_['max_topic_perc'] = max_perc\n",
    "    df_['secondary_topic'] = sec_topic\n",
    "    df_['secondary_topic_perc'] = sec_perc\n",
    "    return df_"
   ]
  },
  {
   "cell_type": "code",
   "execution_count": 25,
   "metadata": {},
   "outputs": [],
   "source": [
    "data_labeled = label_primary_topic(data_join)"
   ]
  },
  {
   "cell_type": "code",
   "execution_count": 26,
   "metadata": {},
   "outputs": [
    {
     "data": {
      "text/plain": [
       "2016_election_frustration_perc    94\n",
       "impeachment_perc                  75\n",
       "primary_candidates_perc           59\n",
       "election_general_terms_perc       55\n",
       "rep_dem_comparison_perc           54\n",
       "right_wing_media_perc             40\n",
       "primary_debates_perc              34\n",
       "miltary_and_immigration_perc      30\n",
       "race_identity_perc                25\n",
       "election_midwest_swing_perc       21\n",
       "gun_control_perc                  20\n",
       "yang_ubi_perc                     20\n",
       "econ_trump_vs_obama_perc          19\n",
       "healthcare_perc                   18\n",
       "bloomberg_perc                    17\n",
       "tax_return_ukraine_biden_perc     14\n",
       "monetary_policy_perc               5\n",
       "impeachment_proceedings_perc       4\n",
       "Name: primary_topic, dtype: int64"
      ]
     },
     "execution_count": 26,
     "metadata": {},
     "output_type": "execute_result"
    }
   ],
   "source": [
    "data_labeled.primary_topic.value_counts()"
   ]
  },
  {
   "cell_type": "markdown",
   "metadata": {},
   "source": [
    "## Are some documents really none of the topics?"
   ]
  },
  {
   "cell_type": "code",
   "execution_count": 27,
   "metadata": {},
   "outputs": [],
   "source": [
    "# replace topic with \"none\" if the primary topic is less than 20% of the total topoic score\n",
    "data_labeled['topic_label'] = np.where(data_labeled.max_topic_perc > 0.2, data_labeled.primary_topic, 'none')"
   ]
  },
  {
   "cell_type": "code",
   "execution_count": 28,
   "metadata": {},
   "outputs": [
    {
     "data": {
      "text/plain": [
       "2016_election_frustration_perc    85\n",
       "impeachment_perc                  69\n",
       "primary_candidates_perc           57\n",
       "rep_dem_comparison_perc           52\n",
       "election_general_terms_perc       50\n",
       "none                              48\n",
       "right_wing_media_perc             39\n",
       "primary_debates_perc              33\n",
       "miltary_and_immigration_perc      25\n",
       "race_identity_perc                20\n",
       "gun_control_perc                  20\n",
       "election_midwest_swing_perc       18\n",
       "healthcare_perc                   18\n",
       "bloomberg_perc                    17\n",
       "yang_ubi_perc                     16\n",
       "econ_trump_vs_obama_perc          16\n",
       "tax_return_ukraine_biden_perc     12\n",
       "monetary_policy_perc               5\n",
       "impeachment_proceedings_perc       4\n",
       "Name: topic_label, dtype: int64"
      ]
     },
     "execution_count": 28,
     "metadata": {},
     "output_type": "execute_result"
    }
   ],
   "source": [
    "data_labeled.topic_label.value_counts()"
   ]
  },
  {
   "cell_type": "code",
   "execution_count": 29,
   "metadata": {},
   "outputs": [
    {
     "data": {
      "text/plain": [
       "count    48.000000\n",
       "mean      0.000285\n",
       "std       0.000054\n",
       "min       0.000181\n",
       "25%       0.000243\n",
       "50%       0.000280\n",
       "75%       0.000322\n",
       "max       0.000404\n",
       "dtype: float64"
      ]
     },
     "execution_count": 29,
     "metadata": {},
     "output_type": "execute_result"
    }
   ],
   "source": [
    "for topic in data_labeled.columns[4:22]:\n",
    "    data_labeled[topic + '_per_word'] = data_labeled[topic] / data_labeled['word_count']\n",
    "    \n",
    "data_labeled[data_labeled.topic_label == 'none']\\\n",
    "    .apply(lambda x: np.max(x['2016_election_frustration_per_word':'miltary_and_immigration_per_word']), axis=1).describe()"
   ]
  },
  {
   "cell_type": "code",
   "execution_count": 30,
   "metadata": {},
   "outputs": [],
   "source": [
    "s = data_labeled\\\n",
    "    .apply(lambda x: np.max(x['2016_election_frustration_per_word':'miltary_and_immigration_per_word']), axis=1)\n",
    "\n",
    "data_labeled['per_word_topic_label'] = s.where(s > 0.0003, 'none')"
   ]
  },
  {
   "cell_type": "code",
   "execution_count": 31,
   "metadata": {},
   "outputs": [
    {
     "data": {
      "text/plain": [
       "(48, 65)"
      ]
     },
     "execution_count": 31,
     "metadata": {},
     "output_type": "execute_result"
    }
   ],
   "source": [
    "# Docs that don't meet percentage cutoff\n",
    "data_labeled[data_labeled.topic_label == 'none'].shape"
   ]
  },
  {
   "cell_type": "code",
   "execution_count": 32,
   "metadata": {},
   "outputs": [
    {
     "data": {
      "text/plain": [
       "(37, 65)"
      ]
     },
     "execution_count": 32,
     "metadata": {},
     "output_type": "execute_result"
    }
   ],
   "source": [
    "# Docs that don't meet per word cutoff\n",
    "data_labeled[data_labeled.per_word_topic_label == 'none'].shape"
   ]
  },
  {
   "cell_type": "code",
   "execution_count": 33,
   "metadata": {},
   "outputs": [
    {
     "data": {
      "text/plain": [
       "(27, 65)"
      ]
     },
     "execution_count": 33,
     "metadata": {},
     "output_type": "execute_result"
    }
   ],
   "source": [
    "# Docs that don't meet per_word or percentage cutoffs\n",
    "data_labeled[(data_labeled.per_word_topic_label == 'none') & (data_labeled.topic_label == 'none')].shape"
   ]
  },
  {
   "cell_type": "code",
   "execution_count": 34,
   "metadata": {},
   "outputs": [],
   "source": [
    "# 10 that don't meet the per word cutoff but do meet the concentration cutoff\n",
    "# 21 don't meet the concentration cutoff but do meet the per word score cutoff\n",
    "# Difference negligible given size of data set"
   ]
  },
  {
   "cell_type": "code",
   "execution_count": 35,
   "metadata": {},
   "outputs": [],
   "source": [
    "with open('../../data/interim/rDemocrats_doc_topic_labeled.pickle', 'wb') as write_file:\n",
    "    pickle.dump(data_labeled, write_file)"
   ]
  },
  {
   "cell_type": "markdown",
   "metadata": {},
   "source": [
    "# Clustering"
   ]
  },
  {
   "cell_type": "code",
   "execution_count": 36,
   "metadata": {},
   "outputs": [],
   "source": [
    "scaler = MinMaxScaler()\n",
    "doc_topic_std = scaler.fit_transform(doc_topic)"
   ]
  },
  {
   "cell_type": "markdown",
   "metadata": {},
   "source": [
    "## K-means"
   ]
  },
  {
   "cell_type": "code",
   "execution_count": 37,
   "metadata": {},
   "outputs": [
    {
     "data": {
      "image/png": "[encoded data removed]",
      "text/plain": [
       "<Figure size 432x288 with 1 Axes>"
      ]
     },
     "metadata": {
      "needs_background": "light"
     },
     "output_type": "display_data"
    }
   ],
   "source": [
    "inertia = []\n",
    "sil_scores = []\n",
    "list_num_clusters = list(range(2,51))\n",
    "for num_clusters in list_num_clusters:\n",
    "    km = KMeans(n_clusters=num_clusters, random_state=42)\n",
    "    preds = km.fit_predict(doc_topic)\n",
    "    inertia.append(km.inertia_)\n",
    "    sil_scores.append(silhouette_score(doc_topic_std, preds))\n",
    "    \n",
    "plt.plot(list_num_clusters,inertia)\n",
    "plt.scatter(list_num_clusters,inertia)\n",
    "plt.xlabel('Number of Clusters')\n",
    "plt.ylabel('Inertia');"
   ]
  },
  {
   "cell_type": "code",
   "execution_count": 38,
   "metadata": {},
   "outputs": [
    {
     "data": {
      "image/png": "[encoded data removed]",
      "text/plain": [
       "<Figure size 432x288 with 1 Axes>"
      ]
     },
     "metadata": {
      "needs_background": "light"
     },
     "output_type": "display_data"
    }
   ],
   "source": [
    "plt.plot(list_num_clusters,sil_scores)\n",
    "plt.scatter(list_num_clusters,sil_scores)\n",
    "plt.xlabel('Number of Clusters')\n",
    "plt.ylabel('Silhouette Scores');"
   ]
  },
  {
   "cell_type": "code",
   "execution_count": 39,
   "metadata": {},
   "outputs": [
    {
     "data": {
      "text/plain": [
       "0     386\n",
       "9     148\n",
       "2      27\n",
       "1      18\n",
       "4      13\n",
       "8       4\n",
       "7       2\n",
       "6       2\n",
       "3       2\n",
       "10      1\n",
       "5       1\n",
       "Name: 0, dtype: int64"
      ]
     },
     "execution_count": 39,
     "metadata": {},
     "output_type": "execute_result"
    }
   ],
   "source": [
    "km = KMeans(n_clusters=11, random_state=42)\n",
    "km_model = km.fit_predict(doc_topic_std)\n",
    "pd.DataFrame(km_model).iloc[:, 0].value_counts()"
   ]
  },
  {
   "cell_type": "code",
   "execution_count": 40,
   "metadata": {},
   "outputs": [],
   "source": [
    "# Dimensionality might be too high\n",
    "# lots of outliers, let's try a non-partioning algo\n",
    "# seems like there's one dense region and then lots of outliers"
   ]
  },
  {
   "cell_type": "markdown",
   "metadata": {},
   "source": [
    "## DBSCAN"
   ]
  },
  {
   "cell_type": "code",
   "execution_count": 41,
   "metadata": {},
   "outputs": [
    {
     "data": {
      "text/plain": [
       " 0    514\n",
       "-1     77\n",
       " 1     13\n",
       "Name: 0, dtype: int64"
      ]
     },
     "execution_count": 41,
     "metadata": {},
     "output_type": "execute_result"
    }
   ],
   "source": [
    "db = DBSCAN(eps=.2, min_samples=10, metric='cosine').fit(doc_topic_std)\n",
    "pd.DataFrame(db.labels_).iloc[:, 0].value_counts()"
   ]
  },
  {
   "cell_type": "markdown",
   "metadata": {},
   "source": [
    "## Hierarchical Clustering"
   ]
  },
  {
   "cell_type": "code",
   "execution_count": 42,
   "metadata": {},
   "outputs": [
    {
     "data": {
      "text/plain": [
       "0    568\n",
       "2     19\n",
       "1     16\n",
       "3      1\n",
       "Name: 0, dtype: int64"
      ]
     },
     "execution_count": 42,
     "metadata": {},
     "output_type": "execute_result"
    }
   ],
   "source": [
    "db = AgglomerativeClustering(n_clusters=None, distance_threshold=.8, linkage='average', affinity='cosine').fit(doc_topic_std)\n",
    "pd.DataFrame(db.labels_).iloc[:, 0].value_counts()"
   ]
  },
  {
   "cell_type": "markdown",
   "metadata": {},
   "source": [
    "## Mean Shift"
   ]
  },
  {
   "cell_type": "code",
   "execution_count": 43,
   "metadata": {},
   "outputs": [
    {
     "data": {
      "text/plain": [
       " 0     563\n",
       "-1      19\n",
       " 1       2\n",
       " 2       2\n",
       " 19      1\n",
       " 18      1\n",
       " 3       1\n",
       " 4       1\n",
       " 5       1\n",
       " 6       1\n",
       " 7       1\n",
       " 8       1\n",
       " 9       1\n",
       " 20      1\n",
       " 11      1\n",
       " 12      1\n",
       " 13      1\n",
       " 14      1\n",
       " 15      1\n",
       " 16      1\n",
       " 17      1\n",
       " 10      1\n",
       "Name: 0, dtype: int64"
      ]
     },
     "execution_count": 43,
     "metadata": {},
     "output_type": "execute_result"
    }
   ],
   "source": [
    "# estimate bandwidth \n",
    "bandwidth = estimate_bandwidth(doc_topic_std, quantile=0.9, random_state=42)\n",
    "\n",
    "ms = MeanShift(bandwidth=bandwidth, cluster_all=False)\n",
    "ms.fit(doc_topic_std)\n",
    "pd.DataFrame(ms.labels_).iloc[:, 0].value_counts()"
   ]
  },
  {
   "cell_type": "markdown",
   "metadata": {},
   "source": [
    "## Spectral Clustering Affinity Propogation"
   ]
  },
  {
   "cell_type": "code",
   "execution_count": 44,
   "metadata": {},
   "outputs": [
    {
     "data": {
      "text/plain": [
       "0    548\n",
       "1     36\n",
       "2     20\n",
       "Name: 0, dtype: int64"
      ]
     },
     "execution_count": 44,
     "metadata": {},
     "output_type": "execute_result"
    }
   ],
   "source": [
    "from sklearn.cluster import SpectralClustering\n",
    "sc = SpectralClustering(n_clusters=3, random_state=42)\n",
    "ypred = sc.fit_predict(doc_topic_std)\n",
    "pd.DataFrame(ypred).iloc[:, 0].value_counts()"
   ]
  },
  {
   "cell_type": "code",
   "execution_count": 45,
   "metadata": {},
   "outputs": [
    {
     "data": {
      "text/html": [
       "<div>\n",
       "<style scoped>\n",
       "    .dataframe tbody tr th:only-of-type {\n",
       "        vertical-align: middle;\n",
       "    }\n",
       "\n",
       "    .dataframe tbody tr th {\n",
       "        vertical-align: top;\n",
       "    }\n",
       "\n",
       "    .dataframe thead th {\n",
       "        text-align: right;\n",
       "    }\n",
       "</style>\n",
       "<table border=\"1\" class=\"dataframe\">\n",
       "  <thead>\n",
       "    <tr style=\"text-align: right;\">\n",
       "      <th></th>\n",
       "      <th>0</th>\n",
       "      <th>1</th>\n",
       "      <th>2</th>\n",
       "      <th>3</th>\n",
       "      <th>4</th>\n",
       "      <th>5</th>\n",
       "      <th>6</th>\n",
       "      <th>7</th>\n",
       "      <th>8</th>\n",
       "      <th>9</th>\n",
       "      <th>10</th>\n",
       "      <th>11</th>\n",
       "      <th>12</th>\n",
       "      <th>13</th>\n",
       "      <th>14</th>\n",
       "      <th>15</th>\n",
       "      <th>16</th>\n",
       "      <th>17</th>\n",
       "    </tr>\n",
       "  </thead>\n",
       "  <tbody>\n",
       "    <tr>\n",
       "      <th>0</th>\n",
       "      <td>0.055337</td>\n",
       "      <td>0.001028</td>\n",
       "      <td>0.001416</td>\n",
       "      <td>0.000000</td>\n",
       "      <td>0.000000</td>\n",
       "      <td>0.040165</td>\n",
       "      <td>0.008595</td>\n",
       "      <td>0.007771</td>\n",
       "      <td>0.003270</td>\n",
       "      <td>0.000000</td>\n",
       "      <td>0.000000</td>\n",
       "      <td>0.003817</td>\n",
       "      <td>0.000000</td>\n",
       "      <td>0.004232</td>\n",
       "      <td>0.000000</td>\n",
       "      <td>0.002306</td>\n",
       "      <td>0.036751</td>\n",
       "      <td>0.000000</td>\n",
       "    </tr>\n",
       "    <tr>\n",
       "      <th>1</th>\n",
       "      <td>0.009407</td>\n",
       "      <td>0.000000</td>\n",
       "      <td>0.002492</td>\n",
       "      <td>0.000000</td>\n",
       "      <td>0.010319</td>\n",
       "      <td>0.000000</td>\n",
       "      <td>0.016074</td>\n",
       "      <td>0.000000</td>\n",
       "      <td>0.022900</td>\n",
       "      <td>0.000000</td>\n",
       "      <td>0.014089</td>\n",
       "      <td>0.000000</td>\n",
       "      <td>0.021479</td>\n",
       "      <td>0.022666</td>\n",
       "      <td>0.000000</td>\n",
       "      <td>0.010719</td>\n",
       "      <td>0.023699</td>\n",
       "      <td>0.020872</td>\n",
       "    </tr>\n",
       "    <tr>\n",
       "      <th>2</th>\n",
       "      <td>0.001926</td>\n",
       "      <td>0.000000</td>\n",
       "      <td>0.000000</td>\n",
       "      <td>0.044540</td>\n",
       "      <td>0.000641</td>\n",
       "      <td>0.070814</td>\n",
       "      <td>0.006391</td>\n",
       "      <td>0.000000</td>\n",
       "      <td>0.000000</td>\n",
       "      <td>0.087737</td>\n",
       "      <td>0.000000</td>\n",
       "      <td>0.000000</td>\n",
       "      <td>0.024671</td>\n",
       "      <td>0.018006</td>\n",
       "      <td>0.035788</td>\n",
       "      <td>0.002815</td>\n",
       "      <td>0.000000</td>\n",
       "      <td>0.000000</td>\n",
       "    </tr>\n",
       "    <tr>\n",
       "      <th>3</th>\n",
       "      <td>0.755913</td>\n",
       "      <td>0.000000</td>\n",
       "      <td>0.000000</td>\n",
       "      <td>0.000000</td>\n",
       "      <td>0.000000</td>\n",
       "      <td>0.237086</td>\n",
       "      <td>0.000000</td>\n",
       "      <td>0.000000</td>\n",
       "      <td>0.016836</td>\n",
       "      <td>0.127967</td>\n",
       "      <td>0.002282</td>\n",
       "      <td>0.000000</td>\n",
       "      <td>0.000000</td>\n",
       "      <td>0.000000</td>\n",
       "      <td>0.000000</td>\n",
       "      <td>0.000000</td>\n",
       "      <td>1.000000</td>\n",
       "      <td>0.000000</td>\n",
       "    </tr>\n",
       "    <tr>\n",
       "      <th>4</th>\n",
       "      <td>0.000000</td>\n",
       "      <td>0.000000</td>\n",
       "      <td>0.050787</td>\n",
       "      <td>0.063403</td>\n",
       "      <td>0.012669</td>\n",
       "      <td>0.000000</td>\n",
       "      <td>0.000000</td>\n",
       "      <td>0.000000</td>\n",
       "      <td>0.072704</td>\n",
       "      <td>0.072319</td>\n",
       "      <td>0.000000</td>\n",
       "      <td>0.000000</td>\n",
       "      <td>0.000953</td>\n",
       "      <td>0.019279</td>\n",
       "      <td>0.000000</td>\n",
       "      <td>0.000000</td>\n",
       "      <td>0.000000</td>\n",
       "      <td>0.033630</td>\n",
       "    </tr>\n",
       "    <tr>\n",
       "      <th>...</th>\n",
       "      <td>...</td>\n",
       "      <td>...</td>\n",
       "      <td>...</td>\n",
       "      <td>...</td>\n",
       "      <td>...</td>\n",
       "      <td>...</td>\n",
       "      <td>...</td>\n",
       "      <td>...</td>\n",
       "      <td>...</td>\n",
       "      <td>...</td>\n",
       "      <td>...</td>\n",
       "      <td>...</td>\n",
       "      <td>...</td>\n",
       "      <td>...</td>\n",
       "      <td>...</td>\n",
       "      <td>...</td>\n",
       "      <td>...</td>\n",
       "      <td>...</td>\n",
       "    </tr>\n",
       "    <tr>\n",
       "      <th>599</th>\n",
       "      <td>0.210087</td>\n",
       "      <td>0.007365</td>\n",
       "      <td>0.000000</td>\n",
       "      <td>0.004059</td>\n",
       "      <td>0.017927</td>\n",
       "      <td>0.061438</td>\n",
       "      <td>0.014703</td>\n",
       "      <td>0.103212</td>\n",
       "      <td>0.009589</td>\n",
       "      <td>0.000000</td>\n",
       "      <td>0.000000</td>\n",
       "      <td>0.016173</td>\n",
       "      <td>0.006840</td>\n",
       "      <td>0.000216</td>\n",
       "      <td>0.000000</td>\n",
       "      <td>0.000000</td>\n",
       "      <td>0.054704</td>\n",
       "      <td>0.004465</td>\n",
       "    </tr>\n",
       "    <tr>\n",
       "      <th>600</th>\n",
       "      <td>0.000000</td>\n",
       "      <td>0.008428</td>\n",
       "      <td>0.000000</td>\n",
       "      <td>0.000000</td>\n",
       "      <td>0.005944</td>\n",
       "      <td>0.059171</td>\n",
       "      <td>0.000000</td>\n",
       "      <td>0.089586</td>\n",
       "      <td>0.000000</td>\n",
       "      <td>0.000000</td>\n",
       "      <td>0.025615</td>\n",
       "      <td>0.016618</td>\n",
       "      <td>0.000000</td>\n",
       "      <td>0.000000</td>\n",
       "      <td>0.080036</td>\n",
       "      <td>0.000000</td>\n",
       "      <td>0.000000</td>\n",
       "      <td>0.063175</td>\n",
       "    </tr>\n",
       "    <tr>\n",
       "      <th>601</th>\n",
       "      <td>0.000000</td>\n",
       "      <td>0.000475</td>\n",
       "      <td>0.000000</td>\n",
       "      <td>0.000000</td>\n",
       "      <td>0.003484</td>\n",
       "      <td>0.013148</td>\n",
       "      <td>0.000000</td>\n",
       "      <td>0.046211</td>\n",
       "      <td>0.000000</td>\n",
       "      <td>0.000000</td>\n",
       "      <td>0.000883</td>\n",
       "      <td>0.000000</td>\n",
       "      <td>0.013563</td>\n",
       "      <td>0.000000</td>\n",
       "      <td>0.006639</td>\n",
       "      <td>0.001078</td>\n",
       "      <td>0.069598</td>\n",
       "      <td>0.008017</td>\n",
       "    </tr>\n",
       "    <tr>\n",
       "      <th>602</th>\n",
       "      <td>0.076583</td>\n",
       "      <td>0.000000</td>\n",
       "      <td>0.007027</td>\n",
       "      <td>0.013559</td>\n",
       "      <td>0.000000</td>\n",
       "      <td>0.036098</td>\n",
       "      <td>0.000000</td>\n",
       "      <td>0.024939</td>\n",
       "      <td>0.012601</td>\n",
       "      <td>0.022400</td>\n",
       "      <td>0.005199</td>\n",
       "      <td>0.000000</td>\n",
       "      <td>0.003851</td>\n",
       "      <td>0.000000</td>\n",
       "      <td>0.001163</td>\n",
       "      <td>0.000000</td>\n",
       "      <td>0.020144</td>\n",
       "      <td>0.000000</td>\n",
       "    </tr>\n",
       "    <tr>\n",
       "      <th>603</th>\n",
       "      <td>0.049545</td>\n",
       "      <td>0.000000</td>\n",
       "      <td>0.000000</td>\n",
       "      <td>0.007046</td>\n",
       "      <td>0.000000</td>\n",
       "      <td>0.029308</td>\n",
       "      <td>0.012138</td>\n",
       "      <td>0.072630</td>\n",
       "      <td>0.005866</td>\n",
       "      <td>0.000000</td>\n",
       "      <td>0.004960</td>\n",
       "      <td>0.000000</td>\n",
       "      <td>0.000000</td>\n",
       "      <td>0.000000</td>\n",
       "      <td>0.019163</td>\n",
       "      <td>0.010033</td>\n",
       "      <td>0.003033</td>\n",
       "      <td>0.000000</td>\n",
       "    </tr>\n",
       "  </tbody>\n",
       "</table>\n",
       "<p>604 rows × 18 columns</p>\n",
       "</div>"
      ],
      "text/plain": [
       "            0         1         2         3         4         5         6  \\\n",
       "0    0.055337  0.001028  0.001416  0.000000  0.000000  0.040165  0.008595   \n",
       "1    0.009407  0.000000  0.002492  0.000000  0.010319  0.000000  0.016074   \n",
       "2    0.001926  0.000000  0.000000  0.044540  0.000641  0.070814  0.006391   \n",
       "3    0.755913  0.000000  0.000000  0.000000  0.000000  0.237086  0.000000   \n",
       "4    0.000000  0.000000  0.050787  0.063403  0.012669  0.000000  0.000000   \n",
       "..        ...       ...       ...       ...       ...       ...       ...   \n",
       "599  0.210087  0.007365  0.000000  0.004059  0.017927  0.061438  0.014703   \n",
       "600  0.000000  0.008428  0.000000  0.000000  0.005944  0.059171  0.000000   \n",
       "601  0.000000  0.000475  0.000000  0.000000  0.003484  0.013148  0.000000   \n",
       "602  0.076583  0.000000  0.007027  0.013559  0.000000  0.036098  0.000000   \n",
       "603  0.049545  0.000000  0.000000  0.007046  0.000000  0.029308  0.012138   \n",
       "\n",
       "            7         8         9        10        11        12        13  \\\n",
       "0    0.007771  0.003270  0.000000  0.000000  0.003817  0.000000  0.004232   \n",
       "1    0.000000  0.022900  0.000000  0.014089  0.000000  0.021479  0.022666   \n",
       "2    0.000000  0.000000  0.087737  0.000000  0.000000  0.024671  0.018006   \n",
       "3    0.000000  0.016836  0.127967  0.002282  0.000000  0.000000  0.000000   \n",
       "4    0.000000  0.072704  0.072319  0.000000  0.000000  0.000953  0.019279   \n",
       "..        ...       ...       ...       ...       ...       ...       ...   \n",
       "599  0.103212  0.009589  0.000000  0.000000  0.016173  0.006840  0.000216   \n",
       "600  0.089586  0.000000  0.000000  0.025615  0.016618  0.000000  0.000000   \n",
       "601  0.046211  0.000000  0.000000  0.000883  0.000000  0.013563  0.000000   \n",
       "602  0.024939  0.012601  0.022400  0.005199  0.000000  0.003851  0.000000   \n",
       "603  0.072630  0.005866  0.000000  0.004960  0.000000  0.000000  0.000000   \n",
       "\n",
       "           14        15        16        17  \n",
       "0    0.000000  0.002306  0.036751  0.000000  \n",
       "1    0.000000  0.010719  0.023699  0.020872  \n",
       "2    0.035788  0.002815  0.000000  0.000000  \n",
       "3    0.000000  0.000000  1.000000  0.000000  \n",
       "4    0.000000  0.000000  0.000000  0.033630  \n",
       "..        ...       ...       ...       ...  \n",
       "599  0.000000  0.000000  0.054704  0.004465  \n",
       "600  0.080036  0.000000  0.000000  0.063175  \n",
       "601  0.006639  0.001078  0.069598  0.008017  \n",
       "602  0.001163  0.000000  0.020144  0.000000  \n",
       "603  0.019163  0.010033  0.003033  0.000000  \n",
       "\n",
       "[604 rows x 18 columns]"
      ]
     },
     "execution_count": 45,
     "metadata": {},
     "output_type": "execute_result"
    }
   ],
   "source": [
    "pd.DataFrame(doc_topic_std)"
   ]
  },
  {
   "cell_type": "markdown",
   "metadata": {},
   "source": [
    "# Take Aways"
   ]
  },
  {
   "cell_type": "markdown",
   "metadata": {},
   "source": [
    "- Lots of outliers and then one dense region\n",
    "- Perhaps consider dropping a bunch of the common words\n",
    "    - play with max_df\n",
    "    - In theory, the topics sharing words is making the clustering break down\n"
   ]
  },
  {
   "cell_type": "code",
   "execution_count": null,
   "metadata": {},
   "outputs": [],
   "source": []
  }
 ],
 "metadata": {
  "kernelspec": {
   "display_name": "Python 3",
   "language": "python",
   "name": "python3"
  },
  "language_info": {
   "codemirror_mode": {
    "name": "ipython",
    "version": 3
   },
   "file_extension": ".py",
   "mimetype": "text/x-python",
   "name": "python",
   "nbconvert_exporter": "python",
   "pygments_lexer": "ipython3",
   "version": "3.7.4"
  },
  "toc": {
   "base_numbering": 1,
   "nav_menu": {},
   "number_sections": true,
   "sideBar": true,
   "skip_h1_title": false,
   "title_cell": "Table of Contents",
   "title_sidebar": "Contents",
   "toc_cell": false,
   "toc_position": {
    "height": "calc(100% - 180px)",
    "left": "10px",
    "top": "150px",
    "width": "233px"
   },
   "toc_section_display": true,
   "toc_window_display": true
  }
 },
 "nbformat": 4,
 "nbformat_minor": 4
}
