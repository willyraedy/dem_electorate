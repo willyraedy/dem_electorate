{
 "cells": [
  {
   "cell_type": "code",
   "execution_count": 1,
   "metadata": {},
   "outputs": [],
   "source": [
    "%load_ext autoreload\n",
    "%autoreload 1\n",
    "\n",
    "import sys\n",
    "import os\n",
    "from dotenv import load_dotenv\n",
    "load_dotenv()\n",
    "sys.path.append('../src')\n",
    "\n",
    "from data.fetch_data import get_submission_docs_for_subreddit\n",
    "from data.clean_data import process_text\n",
    "\n",
    "%aimport data.fetch_data\n",
    "%aimport data.clean_data"
   ]
  },
  {
   "cell_type": "code",
   "execution_count": 2,
   "metadata": {},
   "outputs": [],
   "source": [
    "import pickle\n",
    "import re\n",
    "import string\n",
    "from sklearn.feature_extraction.text import CountVectorizer, ENGLISH_STOP_WORDS, TfidfVectorizer\n",
    "import pandas as pd\n",
    "import numpy as np\n",
    "from textblob import TextBlob\n",
    "from sklearn.decomposition import TruncatedSVD, NMF\n",
    "from sklearn.metrics.pairwise import cosine_similarity\n",
    "from nltk.tokenize import word_tokenize, MWETokenizer # multi-word expression\n",
    "from nltk.stem.porter import PorterStemmer\n",
    "from nltk.stem import WordNetLemmatizer\n",
    "from nltk.chunk import ne_chunk\n",
    "from nltk.tag import pos_tag\n",
    "from gensim import corpora, models, similarities, matutils\n",
    "\n",
    "import matplotlib.pyplot as plt\n",
    "import seaborn as sns"
   ]
  },
  {
   "cell_type": "markdown",
   "metadata": {},
   "source": [
    "# Load Data"
   ]
  },
  {
   "cell_type": "code",
   "execution_count": 3,
   "metadata": {},
   "outputs": [],
   "source": [
    "with open('user_comments_with_sentiment.pickle', 'rb') as read_file:\n",
    "    data_raw = pickle.load(read_file)"
   ]
  },
  {
   "cell_type": "markdown",
   "metadata": {},
   "source": [
    "# Apply rDemocrats Topics"
   ]
  },
  {
   "cell_type": "code",
   "execution_count": 4,
   "metadata": {},
   "outputs": [],
   "source": [
    "additional_stop_words = [\n",
    "    'like', 'dont', 'im', 'say', 'did', 'said', 'thats', 'don', 'hes', 'does', 'thing', 'gt', 'sure', 'doesnt',\n",
    "    'saying', 'youre', 'isnt', 'doing', 'got', 'didnt', 'yeah', 'just', 'yes',\n",
    "    'right', 'think', 'going', 'want', 'know', 'good',\n",
    "    'need', 'time', 'point', 'make', 'way', 'really',\n",
    "    'id', 'ar', 's', 't', 've', 'm', 'shes', \n",
    "    'c', 'd', 'v', 'actually', 'look', 'maybe', 'though', 'bad', 'came', 'mods', 'things', 'lot', 'let', 'lol', 'tell', 'pretty', 'literally'\n",
    "    'theyre', 'people',\n",
    "    '‘', '’', '“'\n",
    "]\n",
    "multi_words = [\n",
    "    ('health','insurance'),\n",
    "    ('fox', 'news'),\n",
    "    ('bernie', 'sanders'),\n",
    "    ('hillary', 'clinton'),\n",
    "    ('barack', 'obama'),\n",
    "    ('donald', 'trump'),\n",
    "    ('joe', 'biden'),\n",
    "    ('joseph', 'biden'),\n",
    "    ('mass', 'shooting'),\n",
    "    ('mass', 'shootings'),\n",
    "    ('assault', 'weapon'),\n",
    "    ('assault', 'weapons'),\n",
    "    ('assault', 'weapons', 'ban'),\n",
    "    ('sergeant', 'at', 'arms'),\n",
    "    ('stop', 'and', 'frisk'),\n",
    "    ('medicare', 'for', 'all'),\n",
    "    ('public', 'option'),\n",
    "    ('beat', 'trump'),\n",
    "    ('articles', 'of', 'impeachment'),\n",
    "    ('new', 'york'),\n",
    "    ('hold', 'in', 'contempt'),\n",
    "    ('quid', 'pro', 'quo')\n",
    "]\n",
    "nmf_topic_labels = [\n",
    "    '2016_election_frustration',\n",
    "    'impeachment_proceedings',\n",
    "    'healthcare',\n",
    "    'primary_candidates',\n",
    "    'gun_control',\n",
    "    'election_general_terms',\n",
    "    'right_wing_media',\n",
    "    'impeachment',\n",
    "    'yang_ubi',\n",
    "    'primary_debates',\n",
    "    'bloomberg',\n",
    "    'econ_trump_vs_obama',\n",
    "    'race_identity',\n",
    "    'tax_return_ukraine_biden',\n",
    "    'election_midwest_swing',\n",
    "    'monetary_policy',\n",
    "    'rep_dem_comparison',\n",
    "    'miltary_and_immigration',\n",
    "    'none'\n",
    "]"
   ]
  },
  {
   "cell_type": "code",
   "execution_count": 5,
   "metadata": {},
   "outputs": [],
   "source": [
    "stemmer = WordNetLemmatizer()\n",
    "mwe_tokenizer = MWETokenizer(multi_words)\n",
    "\n",
    "class StemmedCountVectorizer(CountVectorizer):\n",
    "    def build_analyzer(self):\n",
    "        analyzer = super(StemmedCountVectorizer, self).build_analyzer()\n",
    "        return lambda doc: ([stemmer.lemmatize(w) for w in analyzer(doc)])\n",
    "\n",
    "def complete_tokenizer(x):\n",
    "    return mwe_tokenizer.tokenize(word_tokenize(x))"
   ]
  },
  {
   "cell_type": "code",
   "execution_count": 6,
   "metadata": {},
   "outputs": [],
   "source": [
    "with open('rDemocrats_CV.pickle', 'rb') as read_file:\n",
    "    cv_dems = pickle.load(read_file)\n",
    "    \n",
    "with open('rDemocrats_nmf.pickle', 'rb') as read_file:\n",
    "    nmf_dems = pickle.load(read_file)"
   ]
  },
  {
   "cell_type": "code",
   "execution_count": 22,
   "metadata": {},
   "outputs": [],
   "source": [
    "def get_topic_label(row):\n",
    "    topic_weights = row['2016_election_frustration':'miltary_and_immigration']\n",
    "    per_word = topic_weights / row['total_comment_length']\n",
    "#     if np.max(per_word) > 0.0003:\n",
    "    return nmf_topic_labels[np.argmax(topic_weights)]\n",
    "#     else:\n",
    "#         return 'none'\n",
    "        \n",
    "\n",
    "def label_primary_topic(df):\n",
    "    df_ = df.copy()\n",
    "    df_['primary_topic_num'] = df_.apply(get_topic_label, axis=1)\n",
    "    return df_"
   ]
  },
  {
   "cell_type": "code",
   "execution_count": 23,
   "metadata": {},
   "outputs": [],
   "source": [
    "def process_candidate(df):\n",
    "    data_clean = df.copy()\n",
    "    data_clean['text'] = data_clean.text.map(lambda x: ' '.join(x))\n",
    "    data_clean.text = data_clean.text.map(process_text)\n",
    "    \n",
    "    data_cv = cv_dems.transform(data_clean.text)\n",
    "    data_dtm_raw = pd.DataFrame(data_cv.toarray(), columns=cv_dems.get_feature_names())\n",
    "    data_dtm_raw.index = data_clean.index\n",
    "    \n",
    "    data_dtm = data_dtm_raw.iloc[:, :-171]\n",
    "    \n",
    "    doc_topic_nmf = nmf_dems.transform(data_dtm)\n",
    "    results = pd.DataFrame(doc_topic_nmf, columns=nmf_topic_labels[:-1])\n",
    "    \n",
    "    return label_primary_topic(results.join(data_clean.reset_index()))"
   ]
  },
  {
   "cell_type": "markdown",
   "metadata": {},
   "source": [
    "## Label Comments"
   ]
  },
  {
   "cell_type": "code",
   "execution_count": 24,
   "metadata": {},
   "outputs": [],
   "source": [
    "data_labeled = process_candidate(data_raw)"
   ]
  },
  {
   "cell_type": "code",
   "execution_count": 25,
   "metadata": {},
   "outputs": [
    {
     "data": {
      "text/plain": [
       "primary_candidates           3270\n",
       "primary_debates               861\n",
       "yang_ubi                      520\n",
       "race_identity                 388\n",
       "election_midwest_swing        357\n",
       "election_general_terms        319\n",
       "2016_election_frustration     250\n",
       "impeachment                   216\n",
       "right_wing_media              188\n",
       "rep_dem_comparison            188\n",
       "gun_control                   157\n",
       "tax_return_ukraine_biden      146\n",
       "miltary_and_immigration       142\n",
       "healthcare                    125\n",
       "econ_trump_vs_obama            60\n",
       "bloomberg                      50\n",
       "monetary_policy                34\n",
       "impeachment_proceedings        12\n",
       "Name: primary_topic_num, dtype: int64"
      ]
     },
     "execution_count": 25,
     "metadata": {},
     "output_type": "execute_result"
    }
   ],
   "source": [
    "data_labeled.primary_topic_num.value_counts()"
   ]
  },
  {
   "cell_type": "code",
   "execution_count": 26,
   "metadata": {},
   "outputs": [],
   "source": [
    "with open('data_users_topic_labeled.pickle', 'wb') as write_file:\n",
    "    pickle.dump(data_labeled, write_file)"
   ]
  },
  {
   "cell_type": "code",
   "execution_count": null,
   "metadata": {},
   "outputs": [],
   "source": []
  }
 ],
 "metadata": {
  "kernelspec": {
   "display_name": "Python [conda env:metis] *",
   "language": "python",
   "name": "conda-env-metis-py"
  },
  "language_info": {
   "codemirror_mode": {
    "name": "ipython",
    "version": 3
   },
   "file_extension": ".py",
   "mimetype": "text/x-python",
   "name": "python",
   "nbconvert_exporter": "python",
   "pygments_lexer": "ipython3",
   "version": "3.7.4"
  },
  "toc": {
   "base_numbering": 1,
   "nav_menu": {},
   "number_sections": true,
   "sideBar": true,
   "skip_h1_title": false,
   "title_cell": "Table of Contents",
   "title_sidebar": "Contents",
   "toc_cell": false,
   "toc_position": {
    "height": "calc(100% - 180px)",
    "left": "10px",
    "top": "150px",
    "width": "170.467px"
   },
   "toc_section_display": true,
   "toc_window_display": true
  }
 },
 "nbformat": 4,
 "nbformat_minor": 4
}
