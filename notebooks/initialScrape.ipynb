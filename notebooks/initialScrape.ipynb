{
 "cells": [
  {
   "cell_type": "code",
   "execution_count": 1,
   "metadata": {},
   "outputs": [],
   "source": [
    "%load_ext autoreload\n",
    "%autoreload 1"
   ]
  },
  {
   "cell_type": "code",
   "execution_count": 8,
   "metadata": {},
   "outputs": [],
   "source": [
    "import praw\n",
    "import datetime"
   ]
  },
  {
   "cell_type": "code",
   "execution_count": 3,
   "metadata": {},
   "outputs": [],
   "source": [
    "import sys\n",
    "sys.path.append('../src')\n",
    "\n",
    "from data.scrapeReddit import reddit_api_wrapper"
   ]
  },
  {
   "cell_type": "code",
   "execution_count": 5,
   "metadata": {},
   "outputs": [],
   "source": [
    "import requests"
   ]
  },
  {
   "cell_type": "code",
   "execution_count": 6,
   "metadata": {},
   "outputs": [],
   "source": [
    "res_1_2 = requests.get('https://api.pushshift.io/reddit/search/comment/?subreddit=politics&limit=500&before=1d&after=2d')"
   ]
  },
  {
   "cell_type": "code",
   "execution_count": null,
   "metadata": {},
   "outputs": [],
   "source": [
    "res.json()['data'][0]"
   ]
  },
  {
   "cell_type": "code",
   "execution_count": null,
   "metadata": {},
   "outputs": [],
   "source": [
    "res_2_3 = requests.get('https://api.pushshift.io/reddit/search/comment/?subreddit=politics&limit=500&before=2d&after=3d')"
   ]
  },
  {
   "cell_type": "code",
   "execution_count": null,
   "metadata": {},
   "outputs": [],
   "source": [
    "ids_1_2 = set([x['id'] for x in res_1_2.json()['data']])\n",
    "ids_2_3 = set([x['id'] for x in res_2_3.json()['data']])"
   ]
  },
  {
   "cell_type": "code",
   "execution_count": null,
   "metadata": {},
   "outputs": [],
   "source": [
    "len(ids_1_2.union(ids_2_3))"
   ]
  },
  {
   "cell_type": "code",
   "execution_count": null,
   "metadata": {},
   "outputs": [],
   "source": [
    "# set a bucket size in time\n",
    "# if the response was 500, then set the after time = last timestamp"
   ]
  },
  {
   "cell_type": "code",
   "execution_count": null,
   "metadata": {},
   "outputs": [],
   "source": []
  },
  {
   "cell_type": "code",
   "execution_count": null,
   "metadata": {},
   "outputs": [],
   "source": [
    "res_utc = requests.get('https://api.pushshift.io/reddit/search/comment/?subreddit=politics&limit=500&before=1581889637&after=1581889630')"
   ]
  },
  {
   "cell_type": "code",
   "execution_count": null,
   "metadata": {},
   "outputs": [],
   "source": [
    "res_utc.json()['data']"
   ]
  },
  {
   "cell_type": "code",
   "execution_count": null,
   "metadata": {},
   "outputs": [],
   "source": [
    "[x['link_id'] for x in res_utc.json()['data']]"
   ]
  },
  {
   "cell_type": "code",
   "execution_count": null,
   "metadata": {},
   "outputs": [],
   "source": [
    "[x['parent_id'] for x in res_utc.json()['data']]"
   ]
  },
  {
   "cell_type": "code",
   "execution_count": null,
   "metadata": {},
   "outputs": [],
   "source": [
    "1581889637 - (1000 * 60)"
   ]
  },
  {
   "cell_type": "code",
   "execution_count": null,
   "metadata": {},
   "outputs": [],
   "source": [
    "res_subs = requests.get('https://api.pushshift.io/reddit/search/submission/?ids=t3_f4qqxj')"
   ]
  },
  {
   "cell_type": "code",
   "execution_count": null,
   "metadata": {},
   "outputs": [],
   "source": [
    "res_subs.json()"
   ]
  },
  {
   "cell_type": "code",
   "execution_count": null,
   "metadata": {},
   "outputs": [],
   "source": [
    "# go backwards\n",
    "# before - yesterday\n",
    "# after - before - bucket\n",
    "# if res length = 500\n",
    "    # before - res[0].created_utc\n",
    "    # after = before - bucket"
   ]
  },
  {
   "cell_type": "code",
   "execution_count": 10,
   "metadata": {},
   "outputs": [
    {
     "name": "stdout",
     "output_type": "stream",
     "text": [
      "**********\n",
      "from 2020-02-18 23:09:46\n",
      "**********\n",
      "from 2020-02-18 23:00:24\n",
      "**********\n",
      "from 2020-02-18 22:52:05\n",
      "**********\n",
      "from 2020-02-18 22:44:05\n",
      "**********\n",
      "from 2020-02-18 22:36:06\n",
      "**********\n",
      "from 2020-02-18 22:27:59\n",
      "**********\n",
      "from 2020-02-18 22:19:51\n",
      "**********\n",
      "from 2020-02-18 22:12:39\n",
      "**********\n",
      "from 2020-02-18 22:04:36\n",
      "**********\n",
      "from 2020-02-18 21:57:01\n",
      "**********\n",
      "from 2020-02-18 21:49:13\n",
      "**********\n",
      "from 2020-02-18 21:42:28\n",
      "**********\n",
      "from 2020-02-18 21:34:31\n",
      "**********\n",
      "from 2020-02-18 21:27:03\n",
      "**********\n",
      "from 2020-02-18 21:19:37\n",
      "**********\n",
      "from 2020-02-18 21:11:27\n",
      "**********\n",
      "from 2020-02-18 21:03:30\n",
      "**********\n",
      "from 2020-02-18 20:55:52\n",
      "**********\n",
      "from 2020-02-18 20:48:39\n",
      "**********\n",
      "from 2020-02-18 20:41:29\n",
      "**********\n",
      "from 2020-02-18 20:34:11\n",
      "**********\n",
      "from 2020-02-18 20:27:51\n",
      "**********\n",
      "from 2020-02-18 20:22:03\n",
      "**********\n",
      "from 2020-02-18 20:16:25\n",
      "**********\n",
      "from 2020-02-18 20:10:28\n",
      "**********\n",
      "from 2020-02-18 20:04:18\n",
      "**********\n",
      "from 2020-02-18 19:58:32\n",
      "**********\n",
      "from 2020-02-18 19:53:09\n",
      "**********\n",
      "from 2020-02-18 19:47:12\n",
      "**********\n",
      "from 2020-02-18 19:41:48\n",
      "**********\n",
      "from 2020-02-18 19:36:38\n",
      "**********\n",
      "from 2020-02-18 19:31:24\n",
      "**********\n",
      "from 2020-02-18 19:26:20\n",
      "**********\n",
      "from 2020-02-18 19:20:40\n",
      "**********\n",
      "from 2020-02-18 19:14:29\n",
      "**********\n",
      "from 2020-02-18 19:09:13\n",
      "**********\n",
      "from 2020-02-18 19:03:29\n",
      "**********\n",
      "from 2020-02-18 18:57:05\n",
      "**********\n",
      "from 2020-02-18 18:50:31\n",
      "**********\n",
      "from 2020-02-18 18:44:08\n",
      "**********\n",
      "from 2020-02-18 18:38:20\n",
      "**********\n",
      "from 2020-02-18 18:32:03\n",
      "**********\n",
      "from 2020-02-18 18:25:59\n",
      "**********\n",
      "from 2020-02-18 18:19:20\n",
      "**********\n",
      "from 2020-02-18 18:13:05\n",
      "**********\n",
      "from 2020-02-18 18:06:24\n",
      "**********\n",
      "from 2020-02-18 18:00:08\n",
      "**********\n",
      "from 2020-02-18 17:53:46\n",
      "**********\n",
      "from 2020-02-18 17:47:12\n",
      "**********\n",
      "from 2020-02-18 17:40:20\n",
      "**********\n",
      "from 2020-02-18 17:33:57\n",
      "**********\n",
      "from 2020-02-18 17:27:38\n",
      "**********\n",
      "from 2020-02-18 17:21:23\n",
      "**********\n",
      "from 2020-02-18 17:14:45\n",
      "**********\n",
      "from 2020-02-18 17:08:01\n",
      "**********\n",
      "from 2020-02-18 17:01:24\n",
      "**********\n",
      "from 2020-02-18 16:54:54\n",
      "**********\n",
      "from 2020-02-18 16:49:03\n",
      "**********\n",
      "from 2020-02-18 16:42:55\n",
      "**********\n",
      "from 2020-02-18 16:36:28\n",
      "**********\n",
      "from 2020-02-18 16:29:58\n",
      "**********\n",
      "from 2020-02-18 16:23:01\n",
      "**********\n",
      "from 2020-02-18 16:15:41\n",
      "**********\n",
      "from 2020-02-18 16:08:46\n",
      "**********\n",
      "from 2020-02-18 16:00:41\n",
      "**********\n",
      "from 2020-02-18 15:52:39\n",
      "**********\n",
      "from 2020-02-18 15:44:28\n",
      "**********\n",
      "from 2020-02-18 15:36:31\n",
      "**********\n",
      "from 2020-02-18 15:29:02\n",
      "**********\n",
      "from 2020-02-18 15:21:06\n",
      "**********\n",
      "from 2020-02-18 15:13:27\n",
      "**********\n",
      "from 2020-02-18 15:04:48\n",
      "**********\n",
      "from 2020-02-18 14:56:03\n",
      "**********\n",
      "from 2020-02-18 14:46:42\n",
      "**********\n",
      "from 2020-02-18 14:37:54\n",
      "**********\n",
      "from 2020-02-18 14:28:56\n",
      "**********\n",
      "from 2020-02-18 14:18:40\n",
      "**********\n",
      "from 2020-02-18 14:07:43\n",
      "**********\n",
      "from 2020-02-18 13:57:23\n",
      "**********\n",
      "from 2020-02-18 13:46:33\n",
      "**********\n",
      "from 2020-02-18 13:35:13\n",
      "**********\n",
      "from 2020-02-18 13:22:39\n",
      "**********\n",
      "from 2020-02-18 13:09:41\n",
      "**********\n",
      "from 2020-02-18 12:54:55\n",
      "**********\n",
      "from 2020-02-18 12:38:19\n",
      "**********\n",
      "from 2020-02-18 12:21:32\n",
      "**********\n",
      "from 2020-02-18 12:01:34\n",
      "**********\n",
      "from 2020-02-18 11:36:07\n",
      "**********\n",
      "from 2020-02-18 11:05:05\n",
      "**********\n",
      "from 2020-02-18 10:23:13\n",
      "**********\n",
      "from 2020-02-18 09:32:52\n",
      "**********\n",
      "from 2020-02-18 08:46:26\n",
      "**********\n",
      "from 2020-02-18 08:08:56\n",
      "**********\n",
      "from 2020-02-18 07:39:24\n",
      "**********\n",
      "from 2020-02-18 07:12:12\n",
      "**********\n",
      "from 2020-02-18 06:50:07\n",
      "**********\n",
      "from 2020-02-18 06:28:48\n",
      "**********\n",
      "from 2020-02-18 06:10:16\n",
      "**********\n",
      "from 2020-02-18 05:51:31\n",
      "**********\n",
      "from 2020-02-18 05:34:45\n",
      "**********\n",
      "from 2020-02-18 05:17:33\n",
      "**********\n",
      "from 2020-02-18 05:00:26\n",
      "**********\n",
      "from 2020-02-18 04:46:30\n",
      "**********\n",
      "from 2020-02-18 04:32:48\n",
      "**********\n",
      "from 2020-02-18 04:18:59\n",
      "**********\n",
      "from 2020-02-18 04:05:22\n",
      "**********\n",
      "from 2020-02-18 03:53:40\n",
      "**********\n",
      "from 2020-02-18 03:42:40\n",
      "**********\n",
      "from 2020-02-18 03:32:57\n",
      "**********\n",
      "from 2020-02-18 03:21:24\n",
      "**********\n",
      "from 2020-02-18 03:09:38\n",
      "**********\n",
      "from 2020-02-18 02:59:15\n",
      "**********\n",
      "from 2020-02-18 02:48:07\n",
      "**********\n",
      "from 2020-02-18 02:38:25\n",
      "**********\n",
      "from 2020-02-18 02:27:22\n",
      "**********\n",
      "from 2020-02-18 02:16:33\n",
      "**********\n",
      "from 2020-02-18 02:05:44\n",
      "**********\n",
      "from 2020-02-18 01:55:08\n",
      "**********\n",
      "from 2020-02-18 01:44:50\n",
      "**********\n",
      "from 2020-02-18 01:33:55\n",
      "**********\n",
      "from 2020-02-18 01:24:32\n",
      "**********\n",
      "from 2020-02-18 01:15:22\n",
      "**********\n",
      "from 2020-02-18 01:06:33\n",
      "**********\n",
      "from 2020-02-18 00:55:57\n",
      "**********\n",
      "from 2020-02-18 00:45:10\n",
      "**********\n",
      "from 2020-02-18 00:35:37\n",
      "**********\n",
      "from 2020-02-18 00:25:25\n",
      "**********\n",
      "from 2020-02-18 00:14:33\n",
      "**********\n",
      "from 2020-02-18 00:04:58\n",
      "**********\n",
      "from 2020-02-17 23:55:54\n",
      "**********\n",
      "from 2020-02-17 23:46:45\n",
      "**********\n",
      "from 2020-02-17 23:37:22\n",
      "**********\n",
      "from 2020-02-17 23:27:46\n",
      "**********\n",
      "from 2020-02-17 23:18:23\n"
     ]
    }
   ],
   "source": [
    "import time\n",
    "\n",
    "now = 1582067386\n",
    "curr_utc = now\n",
    "end_time = now - (24 * 60 * 60) # one day\n",
    "comments = []\n",
    "submissions = []\n",
    "\n",
    "while curr_utc > end_time:\n",
    "    print('**********')\n",
    "    print('from', datetime.datetime.utcfromtimestamp(curr_utc))\n",
    "\n",
    "    # get comments\n",
    "    res_comm = requests.get(f'https://api.pushshift.io/reddit/search/comment/?sort=desc&subreddit=politics&limit=500&before={curr_utc}')\n",
    "    new_comm_data = res_comm.json()['data']\n",
    "    comments = comments + new_comm_data\n",
    "    next_utc = new_comm_data[-1]['created_utc']\n",
    "        \n",
    "    # get submissions from same range as comments  \n",
    "    res_sub = requests.get(f'https://api.pushshift.io/reddit/search/submission/?sort=desc&subreddit=politics&limit=500&before={curr_utc}&after={next_utc}')\n",
    "    new_sub_data = res_sub.json()['data']\n",
    "    submissions = submissions + new_sub_data  \n",
    "    \n",
    "    curr_utc = next_utc\n",
    "    time.sleep(1)"
   ]
  },
  {
   "cell_type": "code",
   "execution_count": null,
   "metadata": {},
   "outputs": [],
   "source": [
    "# plan -> 6 scrapers, each do one month (Sept -> Feb)\n",
    "# should run in 4 hours"
   ]
  },
  {
   "cell_type": "code",
   "execution_count": 16,
   "metadata": {},
   "outputs": [
    {
     "data": {
      "text/plain": [
       "[1579475386,\n",
       " 1576883386,\n",
       " 1574291386,\n",
       " 1571699386,\n",
       " 1569107386,\n",
       " 1566515386,\n",
       " 1563923386]"
      ]
     },
     "execution_count": 16,
     "metadata": {},
     "output_type": "execute_result"
    }
   ],
   "source": [
    "ONE_MONTH = 60 * 60 * 24 * 30\n",
    "[1582067386 - (x * ONE_MONTH) for x in range(1, 8)]"
   ]
  },
  {
   "cell_type": "code",
   "execution_count": null,
   "metadata": {},
   "outputs": [],
   "source": []
  },
  {
   "cell_type": "code",
   "execution_count": null,
   "metadata": {},
   "outputs": [],
   "source": []
  },
  {
   "cell_type": "code",
   "execution_count": null,
   "metadata": {},
   "outputs": [],
   "source": []
  },
  {
   "cell_type": "code",
   "execution_count": null,
   "metadata": {},
   "outputs": [],
   "source": []
  },
  {
   "cell_type": "code",
   "execution_count": null,
   "metadata": {},
   "outputs": [],
   "source": []
  },
  {
   "cell_type": "code",
   "execution_count": null,
   "metadata": {},
   "outputs": [],
   "source": []
  }
 ],
 "metadata": {
  "kernelspec": {
   "display_name": "Python 3",
   "language": "python",
   "name": "python3"
  },
  "language_info": {
   "codemirror_mode": {
    "name": "ipython",
    "version": 3
   },
   "file_extension": ".py",
   "mimetype": "text/x-python",
   "name": "python",
   "nbconvert_exporter": "python",
   "pygments_lexer": "ipython3",
   "version": "3.7.3"
  }
 },
 "nbformat": 4,
 "nbformat_minor": 2
}
